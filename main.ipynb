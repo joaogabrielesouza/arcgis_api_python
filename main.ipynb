{
 "cells": [
  {
   "cell_type": "code",
   "execution_count": 5,
   "metadata": {},
   "outputs": [
    {
     "data": {
      "application/vnd.jupyter.widget-view+json": {
       "model_id": "624af14041a44ec48e7eb289e1f2cb91",
       "version_major": 2,
       "version_minor": 0
      },
      "text/plain": [
       "MapView(layout=Layout(height='400px', width='100%'))"
      ]
     },
     "metadata": {},
     "output_type": "display_data"
    },
    {
     "data": {
      "text/html": [
       "<div class=\"map-static-img-preview-a70b01a5-7ea5-4cb9-8080-5e1956d1bd56\"><img src=\"\"></img></div>"
      ],
      "text/plain": [
       "<IPython.core.display.HTML object>"
      ]
     },
     "metadata": {},
     "output_type": "display_data"
    },
    {
     "data": {
      "text/html": [
       "<div class=\"map-html-embed-preview-a70b01a5-7ea5-4cb9-8080-5e1956d1bd56\"></div>"
      ],
      "text/plain": [
       "<IPython.core.display.HTML object>"
      ]
     },
     "metadata": {},
     "output_type": "display_data"
    }
   ],
   "source": [
    "from arcgis.gis import GIS\n",
    "from arcgis.geocoding import geocode\n",
    "\n",
    "#### connect to API ####\n",
    "\n",
    "gis = GIS(api_key=\"AAPK800f71f463ac410d9dbc49c9d3735497BFvZLqj3yoXJOcS0jLsTMRq_qjEoMaIiHBdSov98h--cYGqPidMSLQ6KDZv-fp1M\")\n",
    "geocode_result = geocode(address=\"Avenida Paulista, São Paulo, Brazil\")\n",
    "geocode_result \n",
    "##### Display map \n",
    "mapa = gis.map(f'São Paulo, Brazil')\n",
    "mapa"
   ]
  }
 ],
 "metadata": {
  "kernelspec": {
   "display_name": "arcgis",
   "language": "python",
   "name": "python3"
  },
  "language_info": {
   "codemirror_mode": {
    "name": "ipython",
    "version": 3
   },
   "file_extension": ".py",
   "mimetype": "text/x-python",
   "name": "python",
   "nbconvert_exporter": "python",
   "pygments_lexer": "ipython3",
   "version": "3.9.16"
  },
  "orig_nbformat": 4
 },
 "nbformat": 4,
 "nbformat_minor": 2
}
