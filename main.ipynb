{
 "cells": [
  {
   "cell_type": "code",
   "execution_count": 6,
   "metadata": {},
   "outputs": [
    {
     "data": {
      "application/vnd.jupyter.widget-view+json": {
       "model_id": "a9e27fac41b548ebb15aeab8c8bd3a0a",
       "version_major": 2,
       "version_minor": 0
      },
      "text/plain": [
       "MapView(layout=Layout(height='400px', width='100%'))"
      ]
     },
     "metadata": {},
     "output_type": "display_data"
    },
    {
     "data": {
      "text/html": [
       "<div class=\"map-static-img-preview-dad7b6b8-0a51-49ac-89cb-eca46f3bc0be\"><img src=\"\"></img></div>"
      ],
      "text/plain": [
       "<IPython.core.display.HTML object>"
      ]
     },
     "metadata": {},
     "output_type": "display_data"
    },
    {
     "data": {
      "text/html": [
       "<div class=\"map-html-embed-preview-dad7b6b8-0a51-49ac-89cb-eca46f3bc0be\"></div>"
      ],
      "text/plain": [
       "<IPython.core.display.HTML object>"
      ]
     },
     "metadata": {},
     "output_type": "display_data"
    }
   ],
   "source": [
    "from arcgis.gis import GIS\n",
    "from arcgis.geocoding import geocode\n",
    "\n",
    "#### connect to API ####\n",
    "\n",
    "gis = GIS(api_key=\"AAPK800f71f463ac410d9dbc49c9d3735497BFvZLqj3yoXJOcS0jLsTMRq_qjEoMaIiHBdSov98h--cYGqPidMSLQ6KDZv-fp1M\")\n",
    "\n",
    "##### Geocoder test ###\n",
    "geocode_result = geocode(address=\"Avenida Paulista, São Paulo, Brazil\")\n",
    "geocode_result \n",
    "##### Display map \n",
    "mapa = gis.map(f'São Paulo, Brazil')\n",
    "mapa"
   ]
  }
 ],
 "metadata": {
  "kernelspec": {
   "display_name": "arcgis",
   "language": "python",
   "name": "python3"
  },
  "language_info": {
   "codemirror_mode": {
    "name": "ipython",
    "version": 3
   },
   "file_extension": ".py",
   "mimetype": "text/x-python",
   "name": "python",
   "nbconvert_exporter": "python",
   "pygments_lexer": "ipython3",
   "version": "3.9.16"
  },
  "orig_nbformat": 4
 },
 "nbformat": 4,
 "nbformat_minor": 2
}
